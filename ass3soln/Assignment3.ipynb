{
 "cells": [
  {
   "cell_type": "code",
   "execution_count": 1,
   "id": "9569eeb0",
   "metadata": {},
   "outputs": [],
   "source": [
    "import numpy as np\n",
    "import cv2 as cv\n",
    "import os\n",
    "import math\n",
    "import skimage\n",
    "from scipy import ndimage\n",
    "from skimage import io, util\n",
    "from skimage.color import rgb2gray\n",
    "import shapely\n",
    "from shapely.geometry import LineString, Point\n",
    "from sympy import Point, Line\n",
    "from scipy.linalg import cholesky"
   ]
  },
  {
   "cell_type": "code",
   "execution_count": 185,
   "id": "e83a76ea",
   "metadata": {},
   "outputs": [],
   "source": [
    "!pip list --format=freeze > requirements.txt"
   ]
  },
  {
   "cell_type": "code",
   "execution_count": 2,
   "id": "85721ebb",
   "metadata": {},
   "outputs": [
    {
     "name": "stdout",
     "output_type": "stream",
     "text": [
      "(960, 1280, 3)\n"
     ]
    }
   ],
   "source": [
    "data_path = os.path.join(os.path.dirname(os.path.abspath('Assignment3.ipynb')), 'laptop')\n",
    "output_path = os.path.join(os.path.dirname(os.path.abspath(data_path)), 'output')\n",
    "final_path = os.path.join(os.path.dirname(os.path.abspath(data_path)), 'final')\n",
    "\n",
    "#number_files = len(os.listdir(data_path)) - 1\n",
    "\n",
    "number_files = 5\n",
    "files = []\n",
    "output = []\n",
    "for i in range(number_files):\n",
    "    file_name = os.path.join(data_path, '%d' % (i + 1) + '.jpeg')\n",
    "    files.append(file_name)\n",
    "\n",
    "img1 = cv.imread(files[0])\n",
    "shape = img1.shape\n",
    "print(shape)"
   ]
  },
  {
   "cell_type": "code",
   "execution_count": 150,
   "id": "ae851ae7",
   "metadata": {},
   "outputs": [
    {
     "name": "stdout",
     "output_type": "stream",
     "text": [
      "(960, 1280)\n",
      "number of corner pixels:  2622\n",
      "number of final corner pixels:  54\n",
      "DONE  1\n",
      "(960, 1280)\n",
      "number of corner pixels:  2838\n",
      "number of final corner pixels:  52\n",
      "DONE  2\n",
      "(960, 1280)\n",
      "number of corner pixels:  2951\n",
      "number of final corner pixels:  53\n",
      "DONE  3\n",
      "(960, 1280)\n",
      "number of corner pixels:  2932\n",
      "number of final corner pixels:  70\n",
      "DONE  4\n",
      "(960, 1280)\n",
      "number of corner pixels:  2752\n",
      "number of final corner pixels:  55\n",
      "DONE  5\n"
     ]
    }
   ],
   "source": [
    "size = 5\n",
    "thresh = 0.135\n",
    "power = []\n",
    "\n",
    "output_no = 0\n",
    "for file in files:\n",
    "        \n",
    "    img = cv.imread(file)\n",
    "    shape = img.shape\n",
    "    \n",
    "    filtered = ndimage.gaussian_filter(img, sigma = 1.0)\n",
    "    out = img.copy()\n",
    "    gray = rgb2gray(filtered)\n",
    "    gray = np.float32(gray)\n",
    "    \n",
    "    dest = cv.cornerHarris(gray, 2, 5, 0.07)\n",
    "    dest = cv.dilate(dest, None)\n",
    "    #out[dest > 0.01 * dest.max()] = [0, 0, 255]\n",
    "    print(dest.shape)\n",
    "    corners = []\n",
    "    for i in range(shape[0]):\n",
    "        for j in range(shape[1]):\n",
    "            if dest[i][j] > 0.04 * dest.max():\n",
    "                corners.append([i, j, dest[i][j]])\n",
    "    \n",
    "    sortedc = sorted(corners, key = lambda x : x[2], reverse = True)\n",
    "    final = []\n",
    "    final.append(sortedc[0][:-1])\n",
    "    dis = 2 * size\n",
    "    for i in sortedc :\n",
    "        for j in final :\n",
    "            if(abs(i[0] - j[0] <= dis) and abs(i[1] - j[1]) <= dis) :\n",
    "                break\n",
    "        else :\n",
    "            final.append(i[:-1])\n",
    "    power.append(final)        \n",
    "    for el in final:\n",
    "        out[el[0]][el[1]] = [255, 0, 0]\n",
    "        cv.rectangle(out, (int(el[1] - 3), int(el[0] - 3)), (int(el[1] + 3), int(el[0] + 3)), (0, 255, 0), 4)\n",
    "        cv.putText(out, '%d ,' %(el[1]) + '%d'  %(el[0]) , (int(el[1] - 3), int(el[0] - 3) - 10), cv.FONT_HERSHEY_SIMPLEX, 0.5, (36,255,12), 2)\n",
    "    output_no += 1\n",
    "    print(\"number of corner pixels: \", str(len(corners)))\n",
    "    print(\"number of final corner pixels: \", str(len(final)))\n",
    "    cv.imwrite(os.path.join(output_path, '%d' % output_no + '.jpg'), out)\n",
    "    print(\"DONE \", str(output_no))"
   ]
  },
  {
   "cell_type": "code",
   "execution_count": 3,
   "id": "85917d21",
   "metadata": {},
   "outputs": [
    {
     "name": "stdout",
     "output_type": "stream",
     "text": [
      "(51677570/8833, 8558229/8833)\n",
      "(23702731/38879, -48637229/38879)\n"
     ]
    }
   ],
   "source": [
    "#image 1\n",
    "#horizontal, vertical\n",
    "poi = np.array([[0.0 for i in range(4)] for j in range(5)])\n",
    "\n",
    "A = Point(437, 381)\n",
    "B = Point(879, 429)\n",
    "\n",
    "C = Point(395, 778)\n",
    "D = Point(938, 797)\n",
    "\n",
    "line1 = Line(A, B)\n",
    "line2 = Line(C, D)\n",
    "\n",
    "int_pt1 = line1.intersection(line2)\n",
    "poi11 = int_pt1[0][0], int_pt1[0][1]\n",
    "\n",
    "print(poi11)\n",
    "\n",
    "E = Point(437, 381)\n",
    "F = Point(395, 778)\n",
    "\n",
    "G = Point(879, 429)\n",
    "H = Point(938, 797)\n",
    "\n",
    "line3 = Line(E, F)\n",
    "line4 = Line(G, H)\n",
    "\n",
    "int_pt2 = line3.intersection(line4)\n",
    "poi12 = int_pt2[0][0], int_pt2[0][1]\n",
    "\n",
    "print(poi12)\n",
    "poi[0] = int_pt1[0][0], int_pt1[0][1], int_pt2[0][0], int_pt2[0][1]"
   ]
  },
  {
   "cell_type": "code",
   "execution_count": 4,
   "id": "d9b3b592",
   "metadata": {},
   "outputs": [
    {
     "name": "stdout",
     "output_type": "stream",
     "text": [
      "(3419666/733, 520311/733, 1)\n",
      "(1481158/2963, -5617208/2963, 1)\n"
     ]
    }
   ],
   "source": [
    "#image 2\n",
    "#horizontal, vertical\n",
    "\n",
    "A = Point(306, 264)\n",
    "B = Point(746, 309)\n",
    "\n",
    "C = Point(263, 743)\n",
    "D = Point(794, 739)\n",
    "\n",
    "line1 = Line(A, B)\n",
    "line2 = Line(C, D)\n",
    "\n",
    "int_pt1 = line1.intersection(line2)\n",
    "poi31 = int_pt1[0][0], int_pt1[0][1], 1\n",
    "\n",
    "print(poi31)\n",
    "\n",
    "E = Point(306, 264)\n",
    "F = Point(263, 743)\n",
    "\n",
    "G = Point(746, 309)\n",
    "H = Point(794, 739)\n",
    "\n",
    "line3 = Line(E, F)\n",
    "line4 = Line(G, H)\n",
    "\n",
    "int_pt2 = line3.intersection(line4)\n",
    "poi32 = int_pt2[0][0], int_pt2[0][1], 1\n",
    "\n",
    "print(poi32)\n",
    "poi[1] = int_pt1[0][0], int_pt1[0][1], int_pt2[0][0], int_pt2[0][1]"
   ]
  },
  {
   "cell_type": "code",
   "execution_count": 5,
   "id": "e0216446",
   "metadata": {},
   "outputs": [
    {
     "name": "stdout",
     "output_type": "stream",
     "text": [
      "(-1393534/137, 1743998/1507, 1)\n",
      "(31944919/28209, 184344740/28209, 1)\n"
     ]
    }
   ],
   "source": [
    "#image 3\n",
    "\n",
    "A = Point(350, 179)\n",
    "B = Point(834, 134)\n",
    "\n",
    "C = Point(423, 772)\n",
    "D = Point(863, 756)\n",
    "\n",
    "line1 = Line(A, B)\n",
    "line2 = Line(C, D)\n",
    "\n",
    "int_pt1 = line1.intersection(line2)\n",
    "poi51 = int_pt1[0][0], int_pt1[0][1], 1\n",
    "\n",
    "print(poi51)\n",
    "\n",
    "E = Point(350, 179)\n",
    "F = Point(423, 772)\n",
    "\n",
    "G = Point(834, 134)\n",
    "H = Point(863, 756)\n",
    "\n",
    "line3 = Line(E, F)\n",
    "line4 = Line(G, H)\n",
    "\n",
    "int_pt2 = line3.intersection(line4)\n",
    "poi52 = int_pt2[0][0], int_pt2[0][1], 1\n",
    "\n",
    "print(poi52)\n",
    "poi[2] = int_pt1[0][0], int_pt1[0][1], int_pt2[0][0], int_pt2[0][1]"
   ]
  },
  {
   "cell_type": "code",
   "execution_count": 6,
   "id": "6c4eb7c7",
   "metadata": {},
   "outputs": [
    {
     "name": "stdout",
     "output_type": "stream",
     "text": [
      "(-6035808/1165, -865959/1165, 1)\n",
      "(16912283/5161, -54379220/5161, 1)\n"
     ]
    }
   ],
   "source": [
    "#image 4\n",
    "\n",
    "A = Point(433, 210)\n",
    "B = Point(963, 300)\n",
    "\n",
    "C = Point(320, 637)\n",
    "D = Point(862, 773)\n",
    "\n",
    "line1 = Line(A, B)\n",
    "line2 = Line(C, D)\n",
    "\n",
    "int_pt1 = line1.intersection(line2)\n",
    "poi41 = int_pt1[0][0], int_pt1[0][1], 1\n",
    "\n",
    "print(poi41)\n",
    "\n",
    "E = Point(433, 210)\n",
    "F = Point(320, 637)\n",
    "\n",
    "G = Point(963, 300)\n",
    "H = Point(862, 773)\n",
    "\n",
    "line3 = Line(E, F)\n",
    "line4 = Line(G, H)\n",
    "\n",
    "int_pt2 = line3.intersection(line4)\n",
    "poi42 = int_pt2[0][0], int_pt2[0][1], 1\n",
    "\n",
    "print(poi42)\n",
    "poi[3] = int_pt1[0][0], int_pt1[0][1], int_pt2[0][0], int_pt2[0][1]"
   ]
  },
  {
   "cell_type": "code",
   "execution_count": 7,
   "id": "300c0f26",
   "metadata": {},
   "outputs": [
    {
     "name": "stdout",
     "output_type": "stream",
     "text": [
      "(170617/56, 401, 1)\n",
      "(2212730/12243, 45773471/12243, 1)\n",
      "[[  5850.51171742    968.8926752     609.6538234   -1250.98971167]\n",
      " [  4665.30150068    709.83765348    499.88457644  -1895.7840027 ]\n",
      " [-10171.7810219    1157.26476443   1132.43712999   6534.96189159]\n",
      " [ -5180.95107296   -743.31244635   3276.93915908 -10536.56655687]\n",
      " [  3046.73214286    401.            180.73429715   3738.74630401]]\n"
     ]
    }
   ],
   "source": [
    "#image 5\n",
    "\n",
    "A = Point(426, 401)\n",
    "B = Point(934, 401)\n",
    "\n",
    "C = Point(403, 714)\n",
    "D = Point(876, 658)\n",
    "\n",
    "line1 = Line(A, B)\n",
    "line2 = Line(C, D)\n",
    "\n",
    "int_pt1 = line1.intersection(line2)\n",
    "poi21 = int_pt1[0][0], int_pt1[0][1], 1\n",
    "\n",
    "print(poi21)\n",
    "\n",
    "E = Point(426, 401)\n",
    "F = Point(403, 714)\n",
    "\n",
    "G = Point(934, 401)\n",
    "H = Point(876, 658)\n",
    "\n",
    "line3 = Line(E, F)\n",
    "line4 = Line(G, H)\n",
    "\n",
    "int_pt2 = line3.intersection(line4)\n",
    "poi22 = int_pt2[0][0], int_pt2[0][1], 1\n",
    "\n",
    "print(poi22)\n",
    "poi[4] = int_pt1[0][0], int_pt1[0][1], int_pt2[0][0], int_pt2[0][1]\n",
    "\n",
    "print(poi)"
   ]
  },
  {
   "cell_type": "code",
   "execution_count": 8,
   "id": "d6602a76",
   "metadata": {},
   "outputs": [
    {
     "name": "stdout",
     "output_type": "stream",
     "text": [
      "[[1.74822648 0.30040889 0.63326311]\n",
      " [0.         1.64155325 0.34782767]\n",
      " [0.         0.         1.        ]]\n"
     ]
    }
   ],
   "source": [
    "poi = poi / 1000\n",
    "arr1 = np.array([[0.0 for i in range(5)] for j in range(5)])\n",
    "arr2 = np.array([-1.0 for i in range(5)])\n",
    "for i in range(5):\n",
    "    temp = poi[i]\n",
    "    arr1[i] = temp[0]*temp[2], temp[0]*temp[3]+temp[1]*temp[2], temp[0]+temp[2], temp[1]*temp[3], temp[1]+temp[3]\n",
    "soln = np.linalg.solve(arr1, arr2)\n",
    "W = np.array([[soln[0], soln[1], soln[2]], [soln[1], soln[3], soln[4]], [soln[2], soln[4], 1]])\n",
    "Winv = np.linalg.inv(W)\n",
    "K = cholesky(Winv)\n",
    "print(K)"
   ]
  },
  {
   "cell_type": "code",
   "execution_count": 12,
   "id": "57eff167",
   "metadata": {},
   "outputs": [
    {
     "name": "stdout",
     "output_type": "stream",
     "text": [
      "[[ 0.041889 -0.01054   0.       -0.137379]\n",
      " [ 0.005037  0.038684  0.       -0.060075]\n",
      " [-0.       -0.        0.        1.      ]]\n",
      "(3, 4)\n"
     ]
    }
   ],
   "source": [
    "Kinv = np.linalg.inv(K)\n",
    "w = np.array([\n",
    "    [1, 0, 1, 2, 1, 1, 1, 5, 5],\n",
    "    [0, 1, 1, 1, 2, 3, 4, 1, 2],\n",
    "    np.zeros(9), np.ones(9)\n",
    "    ])\n",
    "m = np.array([\n",
    "    [452, 365, 441, 523, 437, 428, 423, 737, 738],\n",
    "    [263, 311, 317, 330, 381, 445, 518, 358, 413], \n",
    "    np.ones(9)\n",
    "    ])\n",
    "m[0] = m[0] / 1000\n",
    "m[1] = m[1] / 1000\n",
    "\n",
    "RTfit, _, _, _ = np.linalg.lstsq(w.T, (Kinv @ m).T, rcond=None)\n",
    "Rfit = np.around(RTfit.T, 6)\n",
    "print(Rfit)\n",
    "print(Rfit.shape)"
   ]
  },
  {
   "cell_type": "code",
   "execution_count": 13,
   "id": "f7bdb2b9",
   "metadata": {},
   "outputs": [
    {
     "data": {
      "text/plain": [
       "True"
      ]
     },
     "execution_count": 13,
     "metadata": {},
     "output_type": "execute_result"
    }
   ],
   "source": [
    "img = cv.imread(files[0])\n",
    "point1 = np.matmul(np.matmul(K, Rfit), [0, 0, 0, 1])\n",
    "point2 = np.matmul(np.matmul(K, Rfit), [1, 0, 0, 1])\n",
    "point3 = np.matmul(np.matmul(K, Rfit), [0, 1, 0, 1])\n",
    "point4 = np.matmul(np.matmul(K, Rfit), [1, 1, 0, 1])\n",
    "\n",
    "cv.rectangle(img, (int(point1[0] - 3), int(point1[1] - 3)), (int(point1[0] + 3), int(point1[1] + 3)), (0, 255, 0), 4)\n",
    "cv.rectangle(img, (int(point2[0] - 3), int(point2[1] - 3)), (int(point2[0] + 3), int(point2[1] + 3)), (0, 255, 0), 4)\n",
    "cv.rectangle(img, (int(point3[0] - 3), int(point3[1] - 3)), (int(point3[0] + 3), int(point3[1] + 3)), (0, 255, 0), 4)\n",
    "cv.rectangle(img, (int(point4[0] - 3), int(point4[1] - 3)), (int(point4[0] + 3), int(point4[1] + 3)), (0, 255, 0), 4)\n",
    "\n",
    "point5 = np.matmul(np.matmul(K, Rfit), [0, 0, 1, 1])\n",
    "point6 = np.matmul(np.matmul(K, Rfit), [1, 0, 1, 1])\n",
    "point7 = np.matmul(np.matmul(K, Rfit), [0, 1, 1, 1])\n",
    "point8 = np.matmul(np.matmul(K, Rfit), [1, 1, 1, 1])\n",
    "\n",
    "cv.rectangle(img, (int(point5[0] - 3), int(point5[1] - 3)), (int(point5[0] + 3), int(point5[1] + 3)), (0, 255, 0), 4)\n",
    "cv.rectangle(img, (int(point6[0] - 3), int(point6[1] - 3)), (int(point6[0] + 3), int(point6[1] + 3)), (0, 255, 0), 4)\n",
    "cv.rectangle(img, (int(point7[0] - 3), int(point7[1] - 3)), (int(point7[0] + 3), int(point7[1] + 3)), (0, 255, 0), 4)\n",
    "cv.rectangle(img, (int(point8[0] - 3), int(point8[1] - 3)), (int(point8[0] + 3), int(point8[1] + 3)), (0, 255, 0), 4)\n",
    "\n",
    "cv.imwrite(os.path.join(final_path, '1.jpg'), img)"
   ]
  },
  {
   "cell_type": "code",
   "execution_count": null,
   "id": "5dbeff57",
   "metadata": {},
   "outputs": [],
   "source": []
  }
 ],
 "metadata": {
  "kernelspec": {
   "display_name": "Python 3 (ipykernel)",
   "language": "python",
   "name": "python3"
  },
  "language_info": {
   "codemirror_mode": {
    "name": "ipython",
    "version": 3
   },
   "file_extension": ".py",
   "mimetype": "text/x-python",
   "name": "python",
   "nbconvert_exporter": "python",
   "pygments_lexer": "ipython3",
   "version": "3.9.12"
  }
 },
 "nbformat": 4,
 "nbformat_minor": 5
}

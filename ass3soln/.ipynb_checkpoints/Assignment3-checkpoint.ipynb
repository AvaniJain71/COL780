{
 "cells": [
  {
   "cell_type": "code",
   "execution_count": 1,
   "id": "9569eeb0",
   "metadata": {},
   "outputs": [],
   "source": [
    "import numpy as np\n",
    "import cv2 as cv\n",
    "import os\n",
    "import skimage\n",
    "from scipy import ndimage\n",
    "from skimage import io, util\n",
    "from skimage.color import rgb2gray"
   ]
  },
  {
   "cell_type": "code",
   "execution_count": 2,
   "id": "85721ebb",
   "metadata": {},
   "outputs": [
    {
     "name": "stdout",
     "output_type": "stream",
     "text": [
      "(960, 1280, 3)\n"
     ]
    }
   ],
   "source": [
    "data_path = os.path.join(os.path.dirname(os.path.abspath('Assignment3.ipynb')), 'dataset')\n",
    "output_path = os.path.join(os.path.dirname(os.path.abspath(data_path)), 'output')\n",
    "\n",
    "#final_path = os.path.join(os.path.dirname(os.path.abspath(data_path)), 'final')\n",
    "#number_files = len(os.listdir(data_path)) - 1\n",
    "\n",
    "number_files = 5\n",
    "files = []\n",
    "output = []\n",
    "for i in range(number_files):\n",
    "    file_name = os.path.join(data_path, '%d' % (i + 1) + '.jpeg')\n",
    "    files.append(file_name)\n",
    "\n",
    "img1 = cv.imread(files[0])\n",
    "shape = img1.shape\n",
    "print(shape)"
   ]
  },
  {
   "cell_type": "code",
   "execution_count": null,
   "id": "85917d21",
   "metadata": {},
   "outputs": [],
   "source": [
    "size = 5\n",
    "thresh = 0.138\n",
    "power = []\n",
    "\n",
    "output_no = 0\n",
    "for file in files:\n",
    "        \n",
    "    img = cv.imread(file)\n",
    "    shape = img.shape\n",
    "    \n",
    "    filtered = ndimage.gaussian_filter(img, sigma = 1.0)\n",
    "    out = img.copy()\n",
    "    gray = rgb2gray(filtered)\n",
    "    \n",
    "    \n",
    "    output_no += 1\n",
    "    cv.imwrite(os.path.join(output_path, '%d' % output_no + '.jpeg'), out)\n",
    "    print(\"DONE \", str(output_no))\n"
   ]
  }
 ],
 "metadata": {
  "kernelspec": {
   "display_name": "Python 3 (ipykernel)",
   "language": "python",
   "name": "python3"
  },
  "language_info": {
   "codemirror_mode": {
    "name": "ipython",
    "version": 3
   },
   "file_extension": ".py",
   "mimetype": "text/x-python",
   "name": "python",
   "nbconvert_exporter": "python",
   "pygments_lexer": "ipython3",
   "version": "3.9.12"
  }
 },
 "nbformat": 4,
 "nbformat_minor": 5
}

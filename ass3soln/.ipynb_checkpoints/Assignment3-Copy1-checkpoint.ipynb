{
 "cells": [
  {
   "cell_type": "code",
   "execution_count": 64,
   "id": "9569eeb0",
   "metadata": {},
   "outputs": [],
   "source": [
    "import numpy as np\n",
    "import cv2 as cv\n",
    "import os\n",
    "import skimage\n",
    "from scipy import ndimage\n",
    "from skimage import io, util\n",
    "from skimage.color import rgb2gray\n",
    "import shapely\n",
    "from shapely.geometry import LineString, Point\n",
    "from sympy import Point, Line\n",
    "from scipy.linalg import cholesky"
   ]
  },
  {
   "cell_type": "code",
   "execution_count": 65,
   "id": "85721ebb",
   "metadata": {},
   "outputs": [
    {
     "name": "stdout",
     "output_type": "stream",
     "text": [
      "(960, 1280, 3)\n"
     ]
    }
   ],
   "source": [
    "data_path = os.path.join(os.path.dirname(os.path.abspath('Assignment3.ipynb')), 'laptop')\n",
    "output_path = os.path.join(os.path.dirname(os.path.abspath(data_path)), 'output')\n",
    "\n",
    "#final_path = os.path.join(os.path.dirname(os.path.abspath(data_path)), 'final')\n",
    "#number_files = len(os.listdir(data_path)) - 1\n",
    "\n",
    "number_files = 5\n",
    "files = []\n",
    "output = []\n",
    "for i in range(number_files):\n",
    "    file_name = os.path.join(data_path, '%d' % (i + 1) + '.jpeg')\n",
    "    files.append(file_name)\n",
    "\n",
    "img1 = cv.imread(files[0])\n",
    "shape = img1.shape\n",
    "print(shape)"
   ]
  },
  {
   "cell_type": "code",
   "execution_count": 66,
   "id": "ae851ae7",
   "metadata": {},
   "outputs": [
    {
     "name": "stdout",
     "output_type": "stream",
     "text": [
      "(960, 1280)\n",
      "number of corner pixels:  2643\n",
      "number of final corner pixels:  58\n",
      "DONE  1\n",
      "(960, 1280)\n",
      "number of corner pixels:  2650\n",
      "number of final corner pixels:  51\n",
      "DONE  2\n",
      "(960, 1280)\n",
      "number of corner pixels:  2572\n",
      "number of final corner pixels:  67\n",
      "DONE  3\n",
      "(960, 1280)\n",
      "number of corner pixels:  2537\n",
      "number of final corner pixels:  50\n",
      "DONE  4\n",
      "(960, 1280)\n",
      "number of corner pixels:  2518\n",
      "number of final corner pixels:  61\n",
      "DONE  5\n"
     ]
    }
   ],
   "source": [
    "size = 5\n",
    "thresh = 0.135\n",
    "power = []\n",
    "\n",
    "output_no = 0\n",
    "for file in files:\n",
    "        \n",
    "    img = cv.imread(file)\n",
    "    shape = img.shape\n",
    "    \n",
    "    filtered = ndimage.gaussian_filter(img, sigma = 1.0)\n",
    "    out = img.copy()\n",
    "    gray = rgb2gray(filtered)\n",
    "    gray = np.float32(gray)\n",
    "    \n",
    "    dest = cv.cornerHarris(gray, 2, 5, 0.07)\n",
    "    dest = cv.dilate(dest, None)\n",
    "    #out[dest > 0.01 * dest.max()] = [0, 0, 255]\n",
    "    print(dest.shape)\n",
    "    corners = []\n",
    "    for i in range(shape[0]):\n",
    "        for j in range(shape[1]):\n",
    "            if dest[i][j] > 0.06 * dest.max():\n",
    "                corners.append([i, j, dest[i][j]])\n",
    "    \n",
    "    sortedc = sorted(corners, key = lambda x : x[2], reverse = True)\n",
    "    final = []\n",
    "    final.append(sortedc[0][:-1])\n",
    "    dis = 2 * size\n",
    "    for i in sortedc :\n",
    "        for j in final :\n",
    "            if(abs(i[0] - j[0] <= dis) and abs(i[1] - j[1]) <= dis) :\n",
    "                break\n",
    "        else :\n",
    "            final.append(i[:-1])\n",
    "    power.append(final)        \n",
    "    for el in final:\n",
    "        out[el[0]][el[1]] = [255, 0, 0]\n",
    "        cv.rectangle(out, (int(el[1] - 3), int(el[0] - 3)), (int(el[1] + 3), int(el[0] + 3)), (0, 255, 0), 4)\n",
    "        cv.putText(out, '%d ,' %(el[1]) + '%d'  %(el[0]) , (int(el[1] - 3), int(el[0] - 3) - 10), cv.FONT_HERSHEY_SIMPLEX, 0.5, (36,255,12), 2)\n",
    "    output_no += 1\n",
    "    print(\"number of corner pixels: \", str(len(corners)))\n",
    "    print(\"number of final corner pixels: \", str(len(final)))\n",
    "    cv.imwrite(os.path.join(output_path, '%d' % output_no + '.jpg'), out)\n",
    "    print(\"DONE \", str(output_no))"
   ]
  },
  {
   "cell_type": "code",
   "execution_count": 67,
   "id": "85917d21",
   "metadata": {},
   "outputs": [
    {
     "name": "stdout",
     "output_type": "stream",
     "text": [
      "(102889722/44743, 46040793/44743, 1)\n",
      "(-23693112/4921, 73172817/4921, 1)\n",
      "[(102889722/44743, 46040793/44743, -23693112/4921, 73172817/4921)]\n"
     ]
    }
   ],
   "source": [
    "#image 1\n",
    "#horizontal, vertical\n",
    "poi = []\n",
    "\n",
    "A = Point(570, 240)\n",
    "B = Point(958, 417)\n",
    "\n",
    "C = Point(404, 691)\n",
    "D = Point(819, 765)\n",
    "\n",
    "line1 = Line(A, B)\n",
    "line2 = Line(C, D)\n",
    "\n",
    "int_pt1 = line1.intersection(line2)\n",
    "poi11 = int_pt1[0][0], int_pt1[0][1], 1\n",
    "\n",
    "print(poi11)\n",
    "\n",
    "E = Point(570, 240)\n",
    "F = Point(404, 691)\n",
    "\n",
    "G = Point(958, 417)\n",
    "H = Point(819, 765)\n",
    "\n",
    "line3 = Line(E, F)\n",
    "line4 = Line(G, H)\n",
    "\n",
    "int_pt2 = line3.intersection(line4)\n",
    "poi12 = int_pt2[0][0], int_pt2[0][1], 1\n",
    "\n",
    "print(poi12)\n",
    "list_my = int_pt1[0][0], int_pt1[0][1], int_pt2[0][0], int_pt2[0][1]\n",
    "poi.append(list_my)\n",
    "print(poi)"
   ]
  },
  {
   "cell_type": "code",
   "execution_count": 68,
   "id": "300c0f26",
   "metadata": {},
   "outputs": [
    {
     "name": "stdout",
     "output_type": "stream",
     "text": [
      "(6624623/1931, -6370438/5793, 1)\n",
      "(11208131/7811, 20285938/7811, 1)\n"
     ]
    }
   ],
   "source": [
    "#image 1\n",
    "#diagonal\n",
    "\n",
    "A = Point(500, 425)\n",
    "B = Point(821, 258)\n",
    "\n",
    "C = Point(633, 734)\n",
    "D = Point(900, 559)\n",
    "\n",
    "line1 = Line(A, B)\n",
    "line2 = Line(C, D)\n",
    "\n",
    "int_pt1 = line1.intersection(line2)\n",
    "poi21 = int_pt1[0][0], int_pt1[0][1], 1\n",
    "\n",
    "print(poi21)\n",
    "\n",
    "E = Point(821, 258)\n",
    "F = Point(900, 559)\n",
    "\n",
    "G = Point(500, 425)\n",
    "H = Point(633, 734)\n",
    "\n",
    "line3 = Line(E, F)\n",
    "line4 = Line(G, H)\n",
    "\n",
    "int_pt2 = line3.intersection(line4)\n",
    "poi22 = int_pt2[0][0], int_pt2[0][1], 1\n",
    "\n",
    "print(poi22)\n",
    "list_my = int_pt1[0][0], int_pt1[0][1], int_pt2[0][0], int_pt2[0][1]\n",
    "poi.append(list_my)"
   ]
  },
  {
   "cell_type": "code",
   "execution_count": 69,
   "id": "d9b3b592",
   "metadata": {},
   "outputs": [
    {
     "name": "stdout",
     "output_type": "stream",
     "text": [
      "(3419666/733, 520311/733, 1)\n",
      "(1481158/2963, -5617208/2963, 1)\n"
     ]
    }
   ],
   "source": [
    "#image 2\n",
    "#horizontal, vertical\n",
    "\n",
    "A = Point(306, 264)\n",
    "B = Point(746, 309)\n",
    "\n",
    "C = Point(263, 743)\n",
    "D = Point(794, 739)\n",
    "\n",
    "line1 = Line(A, B)\n",
    "line2 = Line(C, D)\n",
    "\n",
    "int_pt1 = line1.intersection(line2)\n",
    "poi31 = int_pt1[0][0], int_pt1[0][1], 1\n",
    "\n",
    "print(poi31)\n",
    "\n",
    "E = Point(306, 264)\n",
    "F = Point(263, 743)\n",
    "\n",
    "G = Point(746, 309)\n",
    "H = Point(794, 739)\n",
    "\n",
    "line3 = Line(E, F)\n",
    "line4 = Line(G, H)\n",
    "\n",
    "int_pt2 = line3.intersection(line4)\n",
    "poi32 = int_pt2[0][0], int_pt2[0][1], 1\n",
    "\n",
    "print(poi32)\n",
    "list_my = int_pt1[0][0], int_pt1[0][1], int_pt2[0][0], int_pt2[0][1]\n",
    "poi.append(list_my)"
   ]
  },
  {
   "cell_type": "code",
   "execution_count": 70,
   "id": "6c4eb7c7",
   "metadata": {},
   "outputs": [
    {
     "name": "stdout",
     "output_type": "stream",
     "text": [
      "(3756610/2063, 8456241/2063, 1)\n",
      "(5723/3, -17878/75, 1)\n"
     ]
    }
   ],
   "source": [
    "#image 3\n",
    "#diagonal\n",
    "\n",
    "A = Point(350, 447)\n",
    "B = Point(495, 807)\n",
    "\n",
    "C = Point(650, 315)\n",
    "D = Point(745, 622)\n",
    "\n",
    "line1 = Line(A, B)\n",
    "line2 = Line(C, D)\n",
    "\n",
    "int_pt1 = line1.intersection(line2)\n",
    "poi41 = int_pt1[0][0], int_pt1[0][1], 1\n",
    "\n",
    "print(poi41)\n",
    "\n",
    "E = Point(495, 807)\n",
    "F = Point(745, 622)\n",
    "\n",
    "G = Point(350, 447)\n",
    "H = Point(650, 315)\n",
    "\n",
    "line3 = Line(E, F)\n",
    "line4 = Line(G, H)\n",
    "\n",
    "int_pt2 = line3.intersection(line4)\n",
    "poi42 = int_pt2[0][0], int_pt2[0][1], 1\n",
    "\n",
    "print(poi42)\n",
    "list_my = int_pt1[0][0], int_pt1[0][1], int_pt2[0][0], int_pt2[0][1]\n",
    "poi.append(list_my)"
   ]
  },
  {
   "cell_type": "code",
   "execution_count": 71,
   "id": "e0216446",
   "metadata": {},
   "outputs": [
    {
     "name": "stdout",
     "output_type": "stream",
     "text": [
      "(123703505/63957, 72907564/63957, 1)\n",
      "(25607896/14213, -47565276/14213, 1)\n",
      "[(102889722/44743, 46040793/44743, -23693112/4921, 73172817/4921), (6624623/1931, -6370438/5793, 11208131/7811, 20285938/7811), (3419666/733, 520311/733, 1481158/2963, -5617208/2963), (3756610/2063, 8456241/2063, 5723/3, -17878/75), (123703505/63957, 72907564/63957, 25607896/14213, -47565276/14213)]\n"
     ]
    }
   ],
   "source": [
    "#image 3\n",
    "#horizontal, vertical\n",
    "\n",
    "A = Point(451, 188)\n",
    "B = Point(800, 412)\n",
    "\n",
    "C = Point(237, 748)\n",
    "D = Point(683, 851)\n",
    "\n",
    "line1 = Line(A, B)\n",
    "line2 = Line(C, D)\n",
    "\n",
    "int_pt1 = line1.intersection(line2)\n",
    "poi51 = int_pt1[0][0], int_pt1[0][1], 1\n",
    "\n",
    "print(poi51)\n",
    "\n",
    "E = Point(451, 188)\n",
    "F = Point(237, 748)\n",
    "\n",
    "G = Point(800, 412)\n",
    "H = Point(683, 851)\n",
    "\n",
    "line3 = Line(E, F)\n",
    "line4 = Line(G, H)\n",
    "\n",
    "int_pt2 = line3.intersection(line4)\n",
    "poi52 = int_pt2[0][0], int_pt2[0][1], 1\n",
    "\n",
    "print(poi52)\n",
    "list_my = int_pt1[0][0], int_pt1[0][1], int_pt2[0][0], int_pt2[0][1]\n",
    "poi.append(list_my)\n",
    "print(poi)"
   ]
  },
  {
   "cell_type": "code",
   "execution_count": 72,
   "id": "d6602a76",
   "metadata": {},
   "outputs": [
    {
     "name": "stdout",
     "output_type": "stream",
     "text": [
      "[[1.37729333e+03 3.18175654e+02 5.43095724e-01]\n",
      " [0.00000000e+00 1.42374207e+03 5.39728982e-01]\n",
      " [0.00000000e+00 0.00000000e+00 1.00000000e+00]]\n"
     ]
    }
   ],
   "source": [
    "arr1 = np.array([[0 for i in range(5)] for j in range(5)])\n",
    "arr2 = np.array([-1 for i in range(5)])\n",
    "for i in range(5):\n",
    "    temp = poi[i]\n",
    "    #arr1[i] = temp[0]*temp[2], temp[0]*temp[3]+temp[1]*temp[2], temp[0]+temp[2], temp[1]*temp[3], temp[1]+temp[3]\n",
    "    arr1[i] = temp[1]*temp[3], temp[0]*temp[3]+temp[1]*temp[2], temp[1]+temp[3], temp[0]*temp[2], temp[0]+temp[2]\n",
    "\n",
    "soln = np.linalg.solve(arr1, arr2)\n",
    "W = np.array([[soln[0], soln[1], soln[2]], [soln[1], soln[3], soln[4]], [soln[2], soln[4], 1]])\n",
    "Winv = np.linalg.inv(W)\n",
    "K = cholesky(Winv)\n",
    "print(K)"
   ]
  },
  {
   "cell_type": "code",
   "execution_count": null,
   "id": "72628ed0",
   "metadata": {},
   "outputs": [],
   "source": []
  }
 ],
 "metadata": {
  "kernelspec": {
   "display_name": "Python 3 (ipykernel)",
   "language": "python",
   "name": "python3"
  },
  "language_info": {
   "codemirror_mode": {
    "name": "ipython",
    "version": 3
   },
   "file_extension": ".py",
   "mimetype": "text/x-python",
   "name": "python",
   "nbconvert_exporter": "python",
   "pygments_lexer": "ipython3",
   "version": "3.9.12"
  }
 },
 "nbformat": 4,
 "nbformat_minor": 5
}
